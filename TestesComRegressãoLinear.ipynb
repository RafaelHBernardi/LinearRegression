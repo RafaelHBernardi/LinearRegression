{
  "cells": [
    {
      "cell_type": "markdown",
      "source": [],
      "metadata": {
        "id": "vznFZtnkIB4c"
      },
      "id": "vznFZtnkIB4c"
    },
    {
      "cell_type": "markdown",
      "id": "0eac56ca",
      "metadata": {
        "raw_mimetype": "text/html",
        "id": "0eac56ca"
      },
      "source": [
        "<h1>Softmax</h1>\n",
        "<h2>Dado a matriz:</h2>\n",
        "\n",
        "\\begin{equation}\n",
        "\\begin{bmatrix}\n",
        "1 & 2 & 3 \\\\\n",
        "4 & 5 & 6\n",
        "\\end{bmatrix}\n",
        "\\end{equation}\n",
        "\n",
        "<h2>Aplicando a formula:</h2>\n",
        "\n",
        "\n",
        "\n",
        "\\begin{equation}\n",
        "\\text{softmax}(x_i) = \\frac{e^{x_i}}{\\sum_{j=1}^{n} e^{x_j}}\n",
        "\\end{equation}\n",
        "\n",
        "<h2>Obtemos: </h2>\n",
        "\\begin{equation}\n",
        "\\text{softmax}([1, 2, 3]) = \\left[ \\frac{e^{1}}{e^{1} + e^{2} + e^{3}}, \\frac{e^{2}}{e^{1} + e^{2} + e^{3}}, \\frac{e^{3}}{e^{1} + e^{2} + e^{3}} \\right]\n",
        "\\end{equation}\n",
        "\n",
        "\\begin{equation}\n",
        "\\text{softmax}([4, 5, 6]) = \\left[ \\frac{e^{4}}{e^{4} + e^{5} + e^{6}}, \\frac{e^{5}}{e^{4} + e^{5} + e^{6}}, \\frac{e^{6}}{e^{4} + e^{5} + e^{6}} \\right]\n",
        "\\end{equation}\n",
        "\n",
        "\\begin{equation}\n",
        "\\text{softmax}([1, 2, 3]) \\approx \\left[ 0.09003057, 0.24472848, 0.6652409 \\right]\n",
        "\\end{equation}\n",
        "\n",
        "\\begin{equation}\n",
        "\\text{softmax}([4, 5, 6]) \\approx \\left[ 0.09003057, 0.24472848, 0.6652409 \\right]\n",
        "\\end{equation}\n",
        "\n",
        "\n"
      ]
    },
    {
      "cell_type": "code",
      "execution_count": 1,
      "id": "a8c25e34",
      "metadata": {
        "id": "a8c25e34",
        "outputId": "42cc1b12-a96d-4cfe-9f71-7a429ce5da5f",
        "colab": {
          "base_uri": "https://localhost:8080/"
        }
      },
      "outputs": [
        {
          "output_type": "execute_result",
          "data": {
            "text/plain": [
              "<tf.Tensor: shape=(2, 3), dtype=float32, numpy=\n",
              "array([[0.09003057, 0.24472848, 0.66524094],\n",
              "       [0.09003057, 0.24472848, 0.66524094]], dtype=float32)>"
            ]
          },
          "metadata": {},
          "execution_count": 1
        }
      ],
      "source": [
        "import tensorflow as tf\n",
        "import numpy as np\n",
        "import matplotlib.pyplot as plt\n",
        "x = tf.constant([[1.,2.,3.],[4.,5.,6.]])\n",
        "tf.nn.softmax(x, axis=-1)\n",
        "\n",
        "# como pode ver o mesmo resultado de acima"
      ]
    },
    {
      "cell_type": "code",
      "execution_count": 2,
      "id": "684ba4b9",
      "metadata": {
        "id": "684ba4b9",
        "outputId": "3d425f36-9382-41f8-e476-1ff4e74750f2",
        "colab": {
          "base_uri": "https://localhost:8080/"
        }
      },
      "outputs": [
        {
          "output_type": "stream",
          "name": "stdout",
          "text": [
            "TensorFlow **IS NOT** using the GPU\n"
          ]
        }
      ],
      "source": [
        "# Para saber se está usando a GPU\n",
        "if tf.config.list_physical_devices('GPU'):\n",
        "  print(\"TensorFlow **IS** using the GPU\")\n",
        "else:\n",
        "  print(\"TensorFlow **IS NOT** using the GPU\")"
      ]
    },
    {
      "cell_type": "code",
      "execution_count": 3,
      "id": "c10f3ed6",
      "metadata": {
        "id": "c10f3ed6",
        "outputId": "e76240b5-342b-49c0-ad1d-cc3cfbb6987d",
        "colab": {
          "base_uri": "https://localhost:8080/"
        }
      },
      "outputs": [
        {
          "output_type": "execute_result",
          "data": {
            "text/plain": [
              "<tf.Tensor: shape=(), dtype=float32, numpy=4.0>"
            ]
          },
          "metadata": {},
          "execution_count": 3
        }
      ],
      "source": [
        "# Gradiente\n",
        "\n",
        "x = tf.Variable(1.0)\n",
        "\n",
        "def f(x):\n",
        "    y = x**2 + 2*x - 5\n",
        "    return y\n",
        "with tf.GradientTape() as tape:\n",
        "    y = f(x)\n",
        "\n",
        "g_x = tape.gradient(y,x) # g(x) = dy / dx\n",
        "\n",
        "g_x # y' = 2x + 2"
      ]
    },
    {
      "cell_type": "markdown",
      "id": "ee890c3b",
      "metadata": {
        "id": "ee890c3b"
      },
      "source": [
        "Este exemplo simplificado leva apenas a derivada em relação a um único escalar ( x ), mas o TensorFlow pode calcular o gradiente em relação a qualquer número de tensores não escalares simultaneamente."
      ]
    },
    {
      "cell_type": "markdown",
      "id": "c76cc048",
      "metadata": {
        "id": "c76cc048"
      },
      "source": [
        "<h1>Loops De Treinamento Básico</h1>\n",
        "<p>Dado x e y tente encontrar a inclinação e o deslocamento de uma linha por meio de regressão linear simples</p>"
      ]
    },
    {
      "cell_type": "code",
      "execution_count": 4,
      "id": "68f9230a",
      "metadata": {
        "scrolled": true,
        "id": "68f9230a",
        "outputId": "27956e39-fbf4-423a-c4f9-5b1edfe005d6",
        "colab": {
          "base_uri": "https://localhost:8080/",
          "height": 812
        }
      },
      "outputs": [
        {
          "output_type": "stream",
          "name": "stdout",
          "text": [
            "Começando ...\n",
            "    W = 5.00, b = 0.00, loss=10.60855\n",
            "Epoca:  0\n",
            "    W = 4.46, b = 0.41, loss=10.60855\n",
            "Epoca:  1\n",
            "    W = 4.06, b = 0.75, loss=10.60855\n",
            "Epoca:  2\n",
            "    W = 3.77, b = 1.01, loss=10.60855\n",
            "Epoca:  3\n",
            "    W = 3.56, b = 1.22, loss=10.60855\n",
            "Epoca:  4\n",
            "    W = 3.41, b = 1.39, loss=10.60855\n",
            "Epoca:  5\n",
            "    W = 3.29, b = 1.53, loss=10.60855\n",
            "Epoca:  6\n",
            "    W = 3.21, b = 1.64, loss=10.60855\n",
            "Epoca:  7\n",
            "    W = 3.15, b = 1.73, loss=10.60855\n",
            "Epoca:  8\n",
            "    W = 3.11, b = 1.80, loss=10.60855\n",
            "Epoca:  9\n",
            "    W = 3.08, b = 1.85, loss=10.60855\n"
          ]
        },
        {
          "output_type": "display_data",
          "data": {
            "text/plain": [
              "<Figure size 640x480 with 1 Axes>"
            ],
            "image/png": "[encoded data removed]"
          },
          "metadata": {}
        }
      ],
      "source": [
        "colors = plt.rcParams['axes.prop_cycle'].by_key()['color']\n",
        "# f(x) = x * w + b\n",
        "\n",
        "TRUE_W = 3.0\n",
        "TRUE_B = 2.0\n",
        "\n",
        "NUM_EXAMPLES = 201\n",
        "\n",
        "# Fazendo um vetor de valores aletorios\n",
        "\n",
        "x = tf.linspace(-2,2,NUM_EXAMPLES)\n",
        "x = tf.cast(x, tf.float32)\n",
        "\n",
        "def f(x):\n",
        "    return x * TRUE_W + TRUE_B\n",
        "\n",
        "# Gerando algum ruído Gaussiano\n",
        "noise = tf.random.normal(shape=[NUM_EXAMPLES])\n",
        "\n",
        "# Calculando y\n",
        "\n",
        "y = f(x) + noise\n",
        "\n",
        "#Plota\n",
        "#plt.plot(x,y,'.')\n",
        "#plt.show()\n",
        "\n",
        "# Definindo o Modelo\n",
        "\n",
        "class MeuModelo(tf.Module):\n",
        "    def __init__(self,**kwargs):\n",
        "        super().__init__(**kwargs)\n",
        "        # Inicia o peso (w) c/ 5 e o bias (b) como 0\n",
        "        self.w = tf.Variable(5.0)\n",
        "        self.b = tf.Variable(0.0)\n",
        "    def __call__(self,x):\n",
        "        return self.w * x + self.b # Ao Final Retorna f(x)\n",
        "\n",
        "#print('Variáveis:', model.variables) # mostra o w e b\n",
        "\n",
        "#assert model(3.0).numpy() == 15 # 3.0 x 5.0 # gera um AssertionError se False\n",
        "\n",
        "# Definindo uma Função de Perda\n",
        "# Defina a perda L2 padrão, também conhecida como erro \"mean squared\":\n",
        "\n",
        "def perda(target_y, predicted_y):\n",
        "    return tf.reduce_mean(tf.square(target_y - predicted_y)) # Faz O Quadrado do Erro\n",
        "\n",
        "#Plotando as previsões do modelo em vermelho e os dados de treinamento em azul:\n",
        "#plt.plot(x, y, '.', label=\"Data\")\n",
        "#plt.plot(x, f(x), label=\"Reta Correta\")\n",
        "#plt.plot(x, model(x), label=\"Reta Prevista\")\n",
        "#plt.legend()\n",
        "#plt.show()\n",
        "#print(\"Perda: %1.6f\" % perda(y, model(x)).numpy())\n",
        "\n",
        "# Definindo Um Loop de Treinamento\n",
        "\n",
        "# Ou seja, agora treinaremos o algoritmo por meio do Gradiente Descendente\n",
        "\n",
        "\n",
        "def train(model, x, y, learning_rate):\n",
        "    with tf.GradientTape() as t:\n",
        "        # As variáveis treinadas são automaticamente procuradas pelo GradientTape\n",
        "        current_loss = perda(y,model(x))\n",
        "\n",
        "    # Usa o GradientTape pra calcular os gradientes c/ base no w e b\n",
        "    dw, db = t.gradient(current_loss, [model.w,model.b])\n",
        "\n",
        "    # Subtrai os Gradientes pra ter a learning rate\n",
        "    model.w.assign_sub(learning_rate * dw) # atualiza w pra learning_rate * dw\n",
        "    model.b.assign_sub(learning_rate * db) # atualiza b pra learning_rate * db\n",
        "\n",
        "model = MeuModelo()\n",
        "\n",
        "# coleciona os valores de w e b pra plotar posteriormente\n",
        "weights = [] # w\n",
        "biases = [] # b\n",
        "epochs = range(10)\n",
        "\n",
        "# Define um Loop De Treinamento\n",
        "\n",
        "def report(model, loss):\n",
        "    return f\"W = {model.w.numpy():1.2f}, b = {model.b.numpy():1.2f}, loss={current_loss:2.5f}\"\n",
        "\n",
        "def training_loop(model,x,y):\n",
        "\n",
        "    for epoch in epochs:\n",
        "        # atualiza o modelo de acordo com a função definida anteriormente\n",
        "        train(model,x,y,learning_rate=0.1)\n",
        "        # w e b se tornam o learning rate * w/b\n",
        "\n",
        "        # Guarda os valores pra usar depois\n",
        "        weights.append(model.w.numpy())\n",
        "        biases.append(model.b.numpy())\n",
        "        current_loss = perda(y,model(x))\n",
        "\n",
        "        print(f'Epoca: {epoch:2d}')\n",
        "        print(\"   \", report(model,current_loss))\n",
        "\n",
        "current_loss = perda(y,model(x))\n",
        "\n",
        "print('Começando ...')\n",
        "print(\"   \", report(model,current_loss))\n",
        "\n",
        "training_loop(model,x,y)\n",
        "\n",
        "# Plotando a Evolução dos pesos ao longo do tempo:\n",
        "\n",
        "plt.plot(epochs,weights,label='Weights',color = colors[0])\n",
        "plt.plot(epochs, [TRUE_W] * len(epochs), '--', label = 'True Weight', color=colors[0])\n",
        "\n",
        "plt.plot(epochs,biases,label='Bias',color = colors[1])\n",
        "plt.plot(epochs, [TRUE_B] * len(epochs), '--', label = 'True Bias', color=colors[1])\n",
        "\n",
        "plt.legend()\n",
        "plt.show()\n"
      ]
    },
    {
      "cell_type": "code",
      "execution_count": 5,
      "id": "ed29b764",
      "metadata": {
        "id": "ed29b764",
        "outputId": "eb1c334e-4b9d-4735-dff6-d9457ef7b33c",
        "colab": {
          "base_uri": "https://localhost:8080/",
          "height": 447
        }
      },
      "outputs": [
        {
          "output_type": "display_data",
          "data": {
            "text/plain": [
              "<Figure size 640x480 with 1 Axes>"
            ],
            "image/png": "[encoded data removed]"
          },
          "metadata": {}
        },
        {
          "output_type": "stream",
          "name": "stdout",
          "text": [
            "Current loss: 0.911354\n"
          ]
        }
      ],
      "source": [
        "plt.plot(x, y, '.', label=\"Data\")\n",
        "plt.plot(x, f(x), label=\"Linha Verdadeira\")\n",
        "plt.plot(x, model(x), label=\"Predictions\")\n",
        "plt.legend()\n",
        "plt.show()\n",
        "\n",
        "print(\"Current loss: %1.6f\" % perda(model(x), y).numpy())"
      ]
    },
    {
      "cell_type": "markdown",
      "id": "55721c05-43db-4c71-a651-779e82a9e135",
      "metadata": {
        "id": "55721c05-43db-4c71-a651-779e82a9e135"
      },
      "source": [
        "<h1>Agora Faremos a Mesma Solução, Mas com Keras!</h1>"
      ]
    },
    {
      "cell_type": "code",
      "execution_count": 15,
      "id": "2f42ce5e-2a9d-4d84-bbfa-26ad57924762",
      "metadata": {
        "id": "2f42ce5e-2a9d-4d84-bbfa-26ad57924762",
        "outputId": "e70c181c-f0d6-426a-b29b-2bd7cdd68f6e",
        "colab": {
          "base_uri": "https://localhost:8080/"
        }
      },
      "outputs": [
        {
          "output_type": "stream",
          "name": "stdout",
          "text": [
            "Epoca:  0\n",
            "    W = 4.46, b = 0.41, loss=10.60855\n",
            "Epoca:  1\n",
            "    W = 4.06, b = 0.75, loss=10.60855\n",
            "Epoca:  2\n",
            "    W = 3.77, b = 1.01, loss=10.60855\n",
            "Epoca:  3\n",
            "    W = 3.56, b = 1.22, loss=10.60855\n",
            "Epoca:  4\n",
            "    W = 3.41, b = 1.39, loss=10.60855\n",
            "Epoca:  5\n",
            "    W = 3.29, b = 1.53, loss=10.60855\n",
            "Epoca:  6\n",
            "    W = 3.21, b = 1.64, loss=10.60855\n",
            "Epoca:  7\n",
            "    W = 3.15, b = 1.73, loss=10.60855\n",
            "Epoca:  8\n",
            "    W = 3.11, b = 1.80, loss=10.60855\n",
            "Epoca:  9\n",
            "    W = 3.08, b = 1.85, loss=10.60855\n",
            "Epoch 1/10\n",
            "\u001b[1m1/1\u001b[0m \u001b[32m━━━━━━━━━━━━━━━━━━━━\u001b[0m\u001b[37m\u001b[0m \u001b[1m0s\u001b[0m 147ms/step - loss: 0.7467\n",
            "Epoch 2/10\n",
            "\u001b[1m1/1\u001b[0m \u001b[32m━━━━━━━━━━━━━━━━━━━━\u001b[0m\u001b[37m\u001b[0m \u001b[1m0s\u001b[0m 59ms/step - loss: 0.7467\n",
            "Epoch 3/10\n",
            "\u001b[1m1/1\u001b[0m \u001b[32m━━━━━━━━━━━━━━━━━━━━\u001b[0m\u001b[37m\u001b[0m \u001b[1m0s\u001b[0m 31ms/step - loss: 0.7467\n",
            "Epoch 4/10\n",
            "\u001b[1m1/1\u001b[0m \u001b[32m━━━━━━━━━━━━━━━━━━━━\u001b[0m\u001b[37m\u001b[0m \u001b[1m0s\u001b[0m 61ms/step - loss: 0.7467\n",
            "Epoch 5/10\n",
            "\u001b[1m1/1\u001b[0m \u001b[32m━━━━━━━━━━━━━━━━━━━━\u001b[0m\u001b[37m\u001b[0m \u001b[1m0s\u001b[0m 38ms/step - loss: 0.7467\n",
            "Epoch 6/10\n",
            "\u001b[1m1/1\u001b[0m \u001b[32m━━━━━━━━━━━━━━━━━━━━\u001b[0m\u001b[37m\u001b[0m \u001b[1m0s\u001b[0m 67ms/step - loss: 0.7467\n",
            "Epoch 7/10\n",
            "\u001b[1m1/1\u001b[0m \u001b[32m━━━━━━━━━━━━━━━━━━━━\u001b[0m\u001b[37m\u001b[0m \u001b[1m0s\u001b[0m 54ms/step - loss: 0.7467\n",
            "Epoch 8/10\n",
            "\u001b[1m1/1\u001b[0m \u001b[32m━━━━━━━━━━━━━━━━━━━━\u001b[0m\u001b[37m\u001b[0m \u001b[1m0s\u001b[0m 36ms/step - loss: 0.7467\n",
            "Epoch 9/10\n",
            "\u001b[1m1/1\u001b[0m \u001b[32m━━━━━━━━━━━━━━━━━━━━\u001b[0m\u001b[37m\u001b[0m \u001b[1m0s\u001b[0m 60ms/step - loss: 0.7467\n",
            "Epoch 10/10\n",
            "\u001b[1m1/1\u001b[0m \u001b[32m━━━━━━━━━━━━━━━━━━━━\u001b[0m\u001b[37m\u001b[0m \u001b[1m0s\u001b[0m 61ms/step - loss: 0.7467\n"
          ]
        },
        {
          "output_type": "execute_result",
          "data": {
            "text/plain": [
              "<keras.src.callbacks.history.History at 0x7cf378c7ead0>"
            ]
          },
          "metadata": {},
          "execution_count": 15
        }
      ],
      "source": [
        "class MeuModeloKeras(tf.keras.Model):\n",
        "    def __init__(self,**kwargs):\n",
        "        super().__init__(**kwargs)\n",
        "        # inicia o peso com 5 e o bias como 0\n",
        "        self.w = tf.Variable(5.0)\n",
        "        self.b = tf.Variable(0.0)\n",
        "    def call(self,x):\n",
        "        return self.w * x + self.b # return f(x) = wx + b\n",
        "\n",
        "keras_model = MeuModeloKeras()\n",
        "\n",
        "# Reusa o Loop de Treino com o Modelo Keras\n",
        "\n",
        "training_loop(keras_model, x, y)\n",
        "\n",
        "# voce tambem pode salvar um checkpoint usando uma função do Keras\n",
        "keras_model.save_weights('my_checkpoint.weights.h5')\n",
        "\n",
        "# Em vez de escrever novos Loops de treinamento pra cada modelo,\n",
        "#voce pode usar um recurso interno do Keras como atalho,\n",
        "# Para isso, voce precisará usar model.compile() p/ definir os parametros\n",
        "# E model.fit() para treinar\n",
        "\n",
        "keras_model.compile(\n",
        "\n",
        "    run_eagerly=False,\n",
        "                                  #.adam\n",
        "    optimizer = tf.keras.optimizers.Adam(learning_rate=0.1),\n",
        "\n",
        "    # Keras vem com a função de Calculo do Erro Médio Quadratico\n",
        "    # Porem voce pode definir outra função de perda como keras.losses.mean_absolute_error\n",
        "    loss = tf.keras.losses.MeanAbsoluteError(),\n",
        "    # Loss também pode ser SparseCategoricalCrossentropy\n",
        "    # Ou MeanSquaredError\n",
        ")\n",
        "\n",
        "# Keras Fit espera dados em um lote, ou conjunto de dados como um array Numpy,\n",
        "# Como nossa funçaõ de treino está programada pra fazer 1 só lote, temos que passar\n",
        "# O batch_size como 1000\n",
        "\n",
        "keras_model.fit(x,y,epochs=10,batch_size=1000)"
      ]
    },
    {
      "cell_type": "markdown",
      "id": "2588722e-423d-4808-8474-29110d91a7a8",
      "metadata": {
        "id": "2588722e-423d-4808-8474-29110d91a7a8"
      },
      "source": [
        "<h2>Extra: Avalia o Modelo</h2>\n"
      ]
    },
    {
      "cell_type": "code",
      "execution_count": 16,
      "id": "73e66bdf-2d04-4f5a-a022-be275f220339",
      "metadata": {
        "id": "73e66bdf-2d04-4f5a-a022-be275f220339",
        "outputId": "46d9d235-b481-4bac-f7bd-d988bbd78ba0",
        "colab": {
          "base_uri": "https://localhost:8080/"
        }
      },
      "outputs": [
        {
          "output_type": "stream",
          "name": "stdout",
          "text": [
            "\u001b[1m7/7\u001b[0m \u001b[32m━━━━━━━━━━━━━━━━━━━━\u001b[0m\u001b[37m\u001b[0m \u001b[1m0s\u001b[0m 2ms/step - loss: 0.7398 \n",
            "Loss: 0.7467453479766846\n"
          ]
        }
      ],
      "source": [
        "loss = keras_model.evaluate(x,y)\n",
        "print(\"Loss:\", loss)"
      ]
    },
    {
      "cell_type": "markdown",
      "id": "be384208-a927-4ce7-b710-c719fcdbeb6a",
      "metadata": {
        "id": "be384208-a927-4ce7-b710-c719fcdbeb6a"
      },
      "source": [
        "<h1>OverFiting</h1>\n",
        "\n",
        "<p> Quando, no modelo a acurácia é de 90%, mas quando usamos model.evaluate() e retorna uma porcentagem menor</p>\n",
        "<p> Isso quer dizer que: Nosso modelo tem épocas demais, ele decorou os dados passados e por isso ele acerta</p>\n",
        "<p> Então caso haja OverFiting, manipule as epocas, de uma olhada nos modelos de otimização, de ativação</p>"
      ]
    }
  ],
  "metadata": {
    "celltoolbar": "Raw Cell Format",
    "kernelspec": {
      "display_name": "Enviroment1",
      "language": "python",
      "name": "enviroment1"
    },
    "language_info": {
      "codemirror_mode": {
        "name": "ipython",
        "version": 3
      },
      "file_extension": ".py",
      "mimetype": "text/x-python",
      "name": "python",
      "nbconvert_exporter": "python",
      "pygments_lexer": "ipython3",
      "version": "3.8.19"
    },
    "colab": {
      "provenance": []
    }
  },
  "nbformat": 4,
  "nbformat_minor": 5
}